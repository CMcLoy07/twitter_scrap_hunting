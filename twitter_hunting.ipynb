{
 "cells": [
  {
   "cell_type": "code",
   "execution_count": 1,
   "metadata": {},
   "outputs": [],
   "source": [
    "#import all keys and packages for tweepy and pandas\n",
    "import datetime\n",
    "import tweepy \n",
    "import os\n",
    "import pandas as pd\n",
    "\n",
    "from API_keys import api_key, api_key_secret, access_token, access_token_secret"
   ]
  },
  {
   "cell_type": "code",
   "execution_count": 2,
   "metadata": {},
   "outputs": [],
   "source": [
    "# Authenticate the Tweepy API\n",
    "auth = tweepy.OAuthHandler(api_key,api_key_secret)\n",
    "auth.set_access_token(access_token, access_token_secret)\n",
    "api = tweepy.API(auth,wait_on_rate_limit=True)"
   ]
  },
  {
   "cell_type": "code",
   "execution_count": 3,
   "metadata": {},
   "outputs": [],
   "source": [
    "date_since = \"2020-10-14\" #went a more manual way to get the date rather than datetime, but either works\n",
    "search_words = \"#hunting\" + '-filter:retweets'"
   ]
  },
  {
   "cell_type": "code",
   "execution_count": 14,
   "metadata": {},
   "outputs": [],
   "source": [
    "#created a variable to store the api search rather for future calls to pull data below and change up the output.\n",
    "\n",
    "tweets = tweepy.Cursor(api.search,\n",
    "               # tweet_mode is defaulted to short, which only holds the first 140 characters of a Tweet.\n",
    "               tweet_mode='extended',\n",
    "               q=search_words,\n",
    "               lang='en', since = date_since).items()\n",
    "\n",
    "\n",
    "\n",
    "       "
   ]
  },
  {
   "cell_type": "code",
   "execution_count": 15,
   "metadata": {},
   "outputs": [],
   "source": [
    "#list comprehension to pull date, user, location, and tweet\n",
    "\n",
    "user_info = [[item.created_at,item.user.screen_name, item.user.location, item.full_text] for item in tweets]\n"
   ]
  },
  {
   "cell_type": "code",
   "execution_count": 17,
   "metadata": {},
   "outputs": [],
   "source": [
    "#placed the user info into a dataframe for future analyzing within SQL or python\n",
    "\n",
    "tweet_text = pd.DataFrame(data=user_info, columns=['date', 'user', 'location', 'tweet'])\n",
    "\n"
   ]
  },
  {
   "cell_type": "code",
   "execution_count": 18,
   "metadata": {},
   "outputs": [
    {
     "data": {
      "text/html": [
       "<div>\n",
       "<style scoped>\n",
       "    .dataframe tbody tr th:only-of-type {\n",
       "        vertical-align: middle;\n",
       "    }\n",
       "\n",
       "    .dataframe tbody tr th {\n",
       "        vertical-align: top;\n",
       "    }\n",
       "\n",
       "    .dataframe thead th {\n",
       "        text-align: right;\n",
       "    }\n",
       "</style>\n",
       "<table border=\"1\" class=\"dataframe\">\n",
       "  <thead>\n",
       "    <tr style=\"text-align: right;\">\n",
       "      <th></th>\n",
       "      <th>date</th>\n",
       "      <th>user</th>\n",
       "      <th>location</th>\n",
       "      <th>tweet</th>\n",
       "    </tr>\n",
       "  </thead>\n",
       "  <tbody>\n",
       "    <tr>\n",
       "      <th>0</th>\n",
       "      <td>2020-10-22 14:41:43</td>\n",
       "      <td>CaloosaSales</td>\n",
       "      <td>Fort Myers, Florida</td>\n",
       "      <td>Shoutout to one of our sponsors - Cablz! Trust...</td>\n",
       "    </tr>\n",
       "    <tr>\n",
       "      <th>1</th>\n",
       "      <td>2020-10-22 14:38:20</td>\n",
       "      <td>GFTrib_KPuckett</td>\n",
       "      <td>Montana</td>\n",
       "      <td>Here we go again. #MTwx #dejavu #hunting  http...</td>\n",
       "    </tr>\n",
       "    <tr>\n",
       "      <th>2</th>\n",
       "      <td>2020-10-22 14:37:54</td>\n",
       "      <td>NDANickP</td>\n",
       "      <td>Indiana, PA</td>\n",
       "      <td>Wonderful testimonial about our #fieldtofork p...</td>\n",
       "    </tr>\n",
       "    <tr>\n",
       "      <th>3</th>\n",
       "      <td>2020-10-22 14:36:02</td>\n",
       "      <td>Win_Win_Now</td>\n",
       "      <td></td>\n",
       "      <td>Please Retweet.\\n\\nWin a $4,000 #Camping Prize...</td>\n",
       "    </tr>\n",
       "    <tr>\n",
       "      <th>4</th>\n",
       "      <td>2020-10-22 14:27:27</td>\n",
       "      <td>Inle_rahbit</td>\n",
       "      <td>UK</td>\n",
       "      <td>@nationaltrust @JudeAvalon You post this answe...</td>\n",
       "    </tr>\n",
       "    <tr>\n",
       "      <th>...</th>\n",
       "      <td>...</td>\n",
       "      <td>...</td>\n",
       "      <td>...</td>\n",
       "      <td>...</td>\n",
       "    </tr>\n",
       "    <tr>\n",
       "      <th>1705</th>\n",
       "      <td>2020-10-14 08:20:41</td>\n",
       "      <td>Big_G_09</td>\n",
       "      <td>Saskatoon, Saskatchewan  🇨🇦</td>\n",
       "      <td>@ToddAndreas @DwayneMihalicz #startemyoung 👍 #...</td>\n",
       "    </tr>\n",
       "    <tr>\n",
       "      <th>1706</th>\n",
       "      <td>2020-10-14 07:37:20</td>\n",
       "      <td>at_ease_shop</td>\n",
       "      <td></td>\n",
       "      <td>One of our favorite pieces: The @ColumbiaSA #G...</td>\n",
       "    </tr>\n",
       "    <tr>\n",
       "      <th>1707</th>\n",
       "      <td>2020-10-14 07:25:01</td>\n",
       "      <td>TacticalSHT</td>\n",
       "      <td>St Louis, MO</td>\n",
       "      <td>\"tacshit2020\" SAVES 15% OFF\\n👇👇\\nCheck it Out!...</td>\n",
       "    </tr>\n",
       "    <tr>\n",
       "      <th>1708</th>\n",
       "      <td>2020-10-14 07:24:56</td>\n",
       "      <td>frugalmaniac</td>\n",
       "      <td>MN, USA</td>\n",
       "      <td>It's a #fishing #Hunting #camping anything out...</td>\n",
       "    </tr>\n",
       "    <tr>\n",
       "      <th>1709</th>\n",
       "      <td>2020-10-14 07:05:44</td>\n",
       "      <td>MatthewSabeyArt</td>\n",
       "      <td>Phoenix, AZ</td>\n",
       "      <td>Started making some progress on this one. Star...</td>\n",
       "    </tr>\n",
       "  </tbody>\n",
       "</table>\n",
       "<p>1710 rows × 4 columns</p>\n",
       "</div>"
      ],
      "text/plain": [
       "                    date             user                      location  \\\n",
       "0    2020-10-22 14:41:43     CaloosaSales           Fort Myers, Florida   \n",
       "1    2020-10-22 14:38:20  GFTrib_KPuckett                       Montana   \n",
       "2    2020-10-22 14:37:54         NDANickP                   Indiana, PA   \n",
       "3    2020-10-22 14:36:02      Win_Win_Now                                 \n",
       "4    2020-10-22 14:27:27      Inle_rahbit                            UK   \n",
       "...                  ...              ...                           ...   \n",
       "1705 2020-10-14 08:20:41         Big_G_09  Saskatoon, Saskatchewan  🇨🇦    \n",
       "1706 2020-10-14 07:37:20     at_ease_shop                                 \n",
       "1707 2020-10-14 07:25:01      TacticalSHT                  St Louis, MO   \n",
       "1708 2020-10-14 07:24:56     frugalmaniac                       MN, USA   \n",
       "1709 2020-10-14 07:05:44  MatthewSabeyArt                   Phoenix, AZ   \n",
       "\n",
       "                                                  tweet  \n",
       "0     Shoutout to one of our sponsors - Cablz! Trust...  \n",
       "1     Here we go again. #MTwx #dejavu #hunting  http...  \n",
       "2     Wonderful testimonial about our #fieldtofork p...  \n",
       "3     Please Retweet.\\n\\nWin a $4,000 #Camping Prize...  \n",
       "4     @nationaltrust @JudeAvalon You post this answe...  \n",
       "...                                                 ...  \n",
       "1705  @ToddAndreas @DwayneMihalicz #startemyoung 👍 #...  \n",
       "1706  One of our favorite pieces: The @ColumbiaSA #G...  \n",
       "1707  \"tacshit2020\" SAVES 15% OFF\\n👇👇\\nCheck it Out!...  \n",
       "1708  It's a #fishing #Hunting #camping anything out...  \n",
       "1709  Started making some progress on this one. Star...  \n",
       "\n",
       "[1710 rows x 4 columns]"
      ]
     },
     "execution_count": 18,
     "metadata": {},
     "output_type": "execute_result"
    }
   ],
   "source": [
    "tweet_text"
   ]
  },
  {
   "cell_type": "code",
   "execution_count": 19,
   "metadata": {},
   "outputs": [],
   "source": [
    "tweet_text.to_csv('hunting_tweets.csv')"
   ]
  },
  {
   "cell_type": "code",
   "execution_count": null,
   "metadata": {},
   "outputs": [],
   "source": []
  }
 ],
 "metadata": {
  "kernelspec": {
   "display_name": "Python 3",
   "language": "python",
   "name": "python3"
  },
  "language_info": {
   "codemirror_mode": {
    "name": "ipython",
    "version": 3
   },
   "file_extension": ".py",
   "mimetype": "text/x-python",
   "name": "python",
   "nbconvert_exporter": "python",
   "pygments_lexer": "ipython3",
   "version": "3.8.3"
  }
 },
 "nbformat": 4,
 "nbformat_minor": 4
}
