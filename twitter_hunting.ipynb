{
 "cells": [
  {
   "cell_type": "markdown",
   "metadata": {},
   "source": [
    "### Acquire and Analyze "
   ]
  },
  {
   "cell_type": "markdown",
   "metadata": {},
   "source": [
    "Hunting has always been a passion of mine. When you put that with data analysis, fun aspects can take place. More specifically, text minning on a well known social media outlet known as Twitter. To combine the two, it was my desire to answer the question, \"On which day of the week is #hunting posted more on Twitter?\". This question needed data to be acquired and then analyzed for my insight. The following code and sections explain the process and outcome of my research. \n",
    "\n"
   ]
  },
  {
   "cell_type": "code",
   "execution_count": 1,
   "metadata": {},
   "outputs": [],
   "source": [
    "#import all keys and packages for tweepy and pandas\n",
    "import datetime\n",
    "import tweepy \n",
    "import os\n",
    "import pandas as pd\n",
    "\n",
    "from API_keys import api_key, api_key_secret, access_token, access_token_secret"
   ]
  },
  {
   "cell_type": "code",
   "execution_count": 2,
   "metadata": {},
   "outputs": [],
   "source": [
    "# Authenticate the Tweepy API\n",
    "auth = tweepy.OAuthHandler(api_key,api_key_secret)\n",
    "auth.set_access_token(access_token, access_token_secret)\n",
    "api = tweepy.API(auth,wait_on_rate_limit=True)"
   ]
  },
  {
   "cell_type": "markdown",
   "metadata": {},
   "source": [
    "In the previous code, I gained access using my specific credentials through the Twitter API Developer, I began to dig into what I wanted to pull and the data I wanted to look at. \n",
    "\n",
    "In order to answer the question \"On which day of the week is #hunting posted more on Twitter?\", I needed to understand how many tweets with the #hunting were sent in a seven day period during the regular hunting season. To take it one step furter, I also wanted to understand the locations of the users. \n",
    "\n",
    "I began the process with first gathering data. I placed my date to grab seven days prior and \"told\" twitter what hashtag I was specifically looking for. Once this was completed, I placed the api search into the \"tweets\" variable for holding. "
   ]
  },
  {
   "cell_type": "code",
   "execution_count": 4,
   "metadata": {},
   "outputs": [],
   "source": [
    "date_since = \"2020-10-18\" #went a more manual way to get the date rather than datetime, but either works\n",
    "search_words = \"#hunting\" + '-filter:retweets'"
   ]
  },
  {
   "cell_type": "code",
   "execution_count": 5,
   "metadata": {},
   "outputs": [],
   "source": [
    "#created a variable to store the api search rather for future calls to pull data below and change up the output.\n",
    "\n",
    "tweets = tweepy.Cursor(api.search,\n",
    "               # tweet_mode is defaulted to short, which only holds the first 140 characters of a Tweet.\n",
    "               tweet_mode='extended',\n",
    "               q=search_words,\n",
    "               lang='en', since = date_since).items()\n",
    "\n",
    "\n",
    "\n",
    "       "
   ]
  },
  {
   "cell_type": "markdown",
   "metadata": {},
   "source": [
    "Now that the data was pulled from Twitter, a new variable was created from \"tweets\" to obtain the necessary information to properlly analyze. This data included the date the tweet was created, the user name, the location of the user, and the full tweet. After the necessary data was extracted in the variable \"user_info\", it was placed in to a \"tweet_text\" data frame. \n",
    "\n",
    "The dataframe shows the analyst, in table format, what was pulled and allows for faster analysis. In order to keep this data from being changed too drastically, it was converted and stored as a csv on the machine. "
   ]
  },
  {
   "cell_type": "code",
   "execution_count": 6,
   "metadata": {},
   "outputs": [],
   "source": [
    "#list comprehension to pull date, user, location, and tweet\n",
    "\n",
    "user_info = [[item.created_at,item.user.screen_name, item.user.location, item.full_text] for item in tweets]\n"
   ]
  },
  {
   "cell_type": "code",
   "execution_count": 7,
   "metadata": {},
   "outputs": [],
   "source": [
    "#placed the user info into a dataframe for future analyzing within SQL or python\n",
    "\n",
    "tweet_text = pd.DataFrame(data=user_info, columns=['date', 'user', 'location', 'tweet'])\n",
    "\n"
   ]
  },
  {
   "cell_type": "code",
   "execution_count": 8,
   "metadata": {},
   "outputs": [
    {
     "data": {
      "text/html": [
       "<div>\n",
       "<style scoped>\n",
       "    .dataframe tbody tr th:only-of-type {\n",
       "        vertical-align: middle;\n",
       "    }\n",
       "\n",
       "    .dataframe tbody tr th {\n",
       "        vertical-align: top;\n",
       "    }\n",
       "\n",
       "    .dataframe thead th {\n",
       "        text-align: right;\n",
       "    }\n",
       "</style>\n",
       "<table border=\"1\" class=\"dataframe\">\n",
       "  <thead>\n",
       "    <tr style=\"text-align: right;\">\n",
       "      <th></th>\n",
       "      <th>date</th>\n",
       "      <th>user</th>\n",
       "      <th>location</th>\n",
       "      <th>tweet</th>\n",
       "    </tr>\n",
       "  </thead>\n",
       "  <tbody>\n",
       "    <tr>\n",
       "      <th>0</th>\n",
       "      <td>2020-10-25 23:05:03</td>\n",
       "      <td>DeerGearTV</td>\n",
       "      <td>Deer Stand, USA</td>\n",
       "      <td>Did you spend the weekend check your trail cam...</td>\n",
       "    </tr>\n",
       "    <tr>\n",
       "      <th>1</th>\n",
       "      <td>2020-10-25 23:03:02</td>\n",
       "      <td>AirRiderHover</td>\n",
       "      <td>Parry Sound, Ontario</td>\n",
       "      <td>Need an All Seasons Vehicle? We have a Hovercr...</td>\n",
       "    </tr>\n",
       "    <tr>\n",
       "      <th>2</th>\n",
       "      <td>2020-10-25 23:00:14</td>\n",
       "      <td>LunkersClub</td>\n",
       "      <td></td>\n",
       "      <td>Lunkers Tip:\\n\\nFace the Wind\\nSacrifice some ...</td>\n",
       "    </tr>\n",
       "    <tr>\n",
       "      <th>3</th>\n",
       "      <td>2020-10-25 22:54:11</td>\n",
       "      <td>MichelleMoggio</td>\n",
       "      <td>Nashville, TN U.S.A.</td>\n",
       "      <td>Paris Untamed: Call of the Wild https://t.co/J...</td>\n",
       "    </tr>\n",
       "    <tr>\n",
       "      <th>4</th>\n",
       "      <td>2020-10-25 22:48:36</td>\n",
       "      <td>EmpireHunting</td>\n",
       "      <td>Ontario, Canada</td>\n",
       "      <td>He carried this for a good kilometre lol... #e...</td>\n",
       "    </tr>\n",
       "    <tr>\n",
       "      <th>...</th>\n",
       "      <td>...</td>\n",
       "      <td>...</td>\n",
       "      <td>...</td>\n",
       "      <td>...</td>\n",
       "    </tr>\n",
       "    <tr>\n",
       "      <th>1601</th>\n",
       "      <td>2020-10-18 00:41:02</td>\n",
       "      <td>HellOnEarth215</td>\n",
       "      <td>Philadelphia, PA</td>\n",
       "      <td>Legendary Hunting\\nOct. 24, 2020 @ 3pm)\\n#Hell...</td>\n",
       "    </tr>\n",
       "    <tr>\n",
       "      <th>1602</th>\n",
       "      <td>2020-10-18 00:34:00</td>\n",
       "      <td>ProtectHarvest</td>\n",
       "      <td>USA</td>\n",
       "      <td>Why is it important to stand behind sportsmen,...</td>\n",
       "    </tr>\n",
       "    <tr>\n",
       "      <th>1603</th>\n",
       "      <td>2020-10-18 00:20:53</td>\n",
       "      <td>CrazyBackyard</td>\n",
       "      <td>Deutschland</td>\n",
       "      <td>Hey buddy! (02:25:00 AM) #wildkamera #wildlife...</td>\n",
       "    </tr>\n",
       "    <tr>\n",
       "      <th>1604</th>\n",
       "      <td>2020-10-18 00:11:46</td>\n",
       "      <td>JA_KindleFireTV</td>\n",
       "      <td>United Kingdom</td>\n",
       "      <td>Zombie Fortress Evolution: Dino\\n\\n‼OUT NOW‼\\n...</td>\n",
       "    </tr>\n",
       "    <tr>\n",
       "      <th>1605</th>\n",
       "      <td>2020-10-18 00:00:26</td>\n",
       "      <td>outdoorsmengal</td>\n",
       "      <td>Missouri</td>\n",
       "      <td>KANSAS HUNTING #Kansas #whitetails with Verdig...</td>\n",
       "    </tr>\n",
       "  </tbody>\n",
       "</table>\n",
       "<p>1606 rows × 4 columns</p>\n",
       "</div>"
      ],
      "text/plain": [
       "                    date             user              location  \\\n",
       "0    2020-10-25 23:05:03       DeerGearTV       Deer Stand, USA   \n",
       "1    2020-10-25 23:03:02    AirRiderHover  Parry Sound, Ontario   \n",
       "2    2020-10-25 23:00:14      LunkersClub                         \n",
       "3    2020-10-25 22:54:11   MichelleMoggio  Nashville, TN U.S.A.   \n",
       "4    2020-10-25 22:48:36    EmpireHunting       Ontario, Canada   \n",
       "...                  ...              ...                   ...   \n",
       "1601 2020-10-18 00:41:02   HellOnEarth215      Philadelphia, PA   \n",
       "1602 2020-10-18 00:34:00   ProtectHarvest                   USA   \n",
       "1603 2020-10-18 00:20:53    CrazyBackyard           Deutschland   \n",
       "1604 2020-10-18 00:11:46  JA_KindleFireTV        United Kingdom   \n",
       "1605 2020-10-18 00:00:26   outdoorsmengal              Missouri   \n",
       "\n",
       "                                                  tweet  \n",
       "0     Did you spend the weekend check your trail cam...  \n",
       "1     Need an All Seasons Vehicle? We have a Hovercr...  \n",
       "2     Lunkers Tip:\\n\\nFace the Wind\\nSacrifice some ...  \n",
       "3     Paris Untamed: Call of the Wild https://t.co/J...  \n",
       "4     He carried this for a good kilometre lol... #e...  \n",
       "...                                                 ...  \n",
       "1601  Legendary Hunting\\nOct. 24, 2020 @ 3pm)\\n#Hell...  \n",
       "1602  Why is it important to stand behind sportsmen,...  \n",
       "1603  Hey buddy! (02:25:00 AM) #wildkamera #wildlife...  \n",
       "1604  Zombie Fortress Evolution: Dino\\n\\n‼OUT NOW‼\\n...  \n",
       "1605  KANSAS HUNTING #Kansas #whitetails with Verdig...  \n",
       "\n",
       "[1606 rows x 4 columns]"
      ]
     },
     "execution_count": 8,
     "metadata": {},
     "output_type": "execute_result"
    }
   ],
   "source": [
    "tweet_text"
   ]
  },
  {
   "cell_type": "code",
   "execution_count": null,
   "metadata": {},
   "outputs": [],
   "source": [
    "tweet_text.to_csv('hunting_tweets.csv')"
   ]
  },
  {
   "cell_type": "markdown",
   "metadata": {},
   "source": [
    "With the data sucessfully pulled and stored in a proper format, the cleaning and analysis was able to take place. The first part was the view the locations of the users to get a good feel for the representation. In doing so, the information showed that several user locations stated \"USA\" and \"United States\". \n",
    "\n",
    "In an attempt to clean this up even more and show truly the locations such as US state the user is from, the location USA was removed. This does remove data that can be analyzed in the future, but for the purpose of state location, it helps to clean up and show what users, by state, are posting on specific days. "
   ]
  },
  {
   "cell_type": "code",
   "execution_count": 34,
   "metadata": {},
   "outputs": [
    {
     "data": {
      "text/plain": [
       "                   317\n",
       "Denver, CO          77\n",
       "MN, USA             46\n",
       "United States       43\n",
       "United Kingdom      37\n",
       "USA                 27\n",
       "Texas, USA          24\n",
       "Deer Stand, USA     22\n",
       "Atlanta, GA         20\n",
       "Deutschland         19\n",
       "Name: location, dtype: int64"
      ]
     },
     "execution_count": 34,
     "metadata": {},
     "output_type": "execute_result"
    }
   ],
   "source": [
    "tweet_text['location'].value_counts()[:10]"
   ]
  },
  {
   "cell_type": "code",
   "execution_count": 32,
   "metadata": {},
   "outputs": [],
   "source": [
    "new_data = tweet_text.replace(to_replace='United States', value='USA')"
   ]
  },
  {
   "cell_type": "code",
   "execution_count": 41,
   "metadata": {},
   "outputs": [
    {
     "data": {
      "text/plain": [
       "                   317\n",
       "Denver, CO          77\n",
       "USA                 70\n",
       "MN, USA             46\n",
       "United Kingdom      37\n",
       "Texas, USA          24\n",
       "Deer Stand, USA     22\n",
       "Atlanta, GA         20\n",
       "Deutschland         19\n",
       "Wisconsin, USA      18\n",
       "Alabama, USA        16\n",
       "Name: location, dtype: int64"
      ]
     },
     "execution_count": 41,
     "metadata": {},
     "output_type": "execute_result"
    }
   ],
   "source": [
    "new_data['location'].value_counts()[:11]"
   ]
  },
  {
   "cell_type": "code",
   "execution_count": 55,
   "metadata": {},
   "outputs": [],
   "source": [
    "#drop the location USA in the data frame to show only us states and UK as locations.\n",
    "new_data.drop(new_data[new_data['location']=='USA'].index,inplace = True)"
   ]
  },
  {
   "cell_type": "code",
   "execution_count": 53,
   "metadata": {},
   "outputs": [
    {
     "data": {
      "text/plain": [
       "                   317\n",
       "Denver, CO          77\n",
       "MN, USA             46\n",
       "United Kingdom      37\n",
       "Texas, USA          24\n",
       "Deer Stand, USA     22\n",
       "Atlanta, GA         20\n",
       "Deutschland         19\n",
       "Wisconsin, USA      18\n",
       "Alabama, USA        16\n",
       "Name: location, dtype: int64"
      ]
     },
     "execution_count": 53,
     "metadata": {},
     "output_type": "execute_result"
    }
   ],
   "source": [
    "new_data['location'].value_counts()[:10]"
   ]
  },
  {
   "cell_type": "markdown",
   "metadata": {},
   "source": [
    "For the last bit of cleaning, the dataframe was stored with dates that utilized the time format. Although this is very helpful to show the hours that users are posting, for this study, it proved to create extra bars in the charts and a very poor visulization. Thus, the date was converted to a new column and removed the time stamp. This date column returned the value counts for all tweets on the given date. "
   ]
  },
  {
   "cell_type": "code",
   "execution_count": 45,
   "metadata": {},
   "outputs": [],
   "source": [
    "#create new column to store date with removed hr:mm:ss \n",
    "new_data['new_date'] = new_data['date'].dt.date"
   ]
  },
  {
   "cell_type": "code",
   "execution_count": 46,
   "metadata": {},
   "outputs": [
    {
     "data": {
      "text/html": [
       "<div>\n",
       "<style scoped>\n",
       "    .dataframe tbody tr th:only-of-type {\n",
       "        vertical-align: middle;\n",
       "    }\n",
       "\n",
       "    .dataframe tbody tr th {\n",
       "        vertical-align: top;\n",
       "    }\n",
       "\n",
       "    .dataframe thead th {\n",
       "        text-align: right;\n",
       "    }\n",
       "</style>\n",
       "<table border=\"1\" class=\"dataframe\">\n",
       "  <thead>\n",
       "    <tr style=\"text-align: right;\">\n",
       "      <th></th>\n",
       "      <th>date</th>\n",
       "      <th>user</th>\n",
       "      <th>location</th>\n",
       "      <th>tweet</th>\n",
       "      <th>new_date</th>\n",
       "    </tr>\n",
       "  </thead>\n",
       "  <tbody>\n",
       "    <tr>\n",
       "      <th>0</th>\n",
       "      <td>2020-10-25 23:05:03</td>\n",
       "      <td>DeerGearTV</td>\n",
       "      <td>Deer Stand, USA</td>\n",
       "      <td>Did you spend the weekend check your trail cam...</td>\n",
       "      <td>2020-10-25</td>\n",
       "    </tr>\n",
       "    <tr>\n",
       "      <th>1</th>\n",
       "      <td>2020-10-25 23:03:02</td>\n",
       "      <td>AirRiderHover</td>\n",
       "      <td>Parry Sound, Ontario</td>\n",
       "      <td>Need an All Seasons Vehicle? We have a Hovercr...</td>\n",
       "      <td>2020-10-25</td>\n",
       "    </tr>\n",
       "    <tr>\n",
       "      <th>2</th>\n",
       "      <td>2020-10-25 23:00:14</td>\n",
       "      <td>LunkersClub</td>\n",
       "      <td></td>\n",
       "      <td>Lunkers Tip:\\n\\nFace the Wind\\nSacrifice some ...</td>\n",
       "      <td>2020-10-25</td>\n",
       "    </tr>\n",
       "    <tr>\n",
       "      <th>3</th>\n",
       "      <td>2020-10-25 22:54:11</td>\n",
       "      <td>MichelleMoggio</td>\n",
       "      <td>Nashville, TN U.S.A.</td>\n",
       "      <td>Paris Untamed: Call of the Wild https://t.co/J...</td>\n",
       "      <td>2020-10-25</td>\n",
       "    </tr>\n",
       "    <tr>\n",
       "      <th>4</th>\n",
       "      <td>2020-10-25 22:48:36</td>\n",
       "      <td>EmpireHunting</td>\n",
       "      <td>Ontario, Canada</td>\n",
       "      <td>He carried this for a good kilometre lol... #e...</td>\n",
       "      <td>2020-10-25</td>\n",
       "    </tr>\n",
       "  </tbody>\n",
       "</table>\n",
       "</div>"
      ],
      "text/plain": [
       "                 date            user              location  \\\n",
       "0 2020-10-25 23:05:03      DeerGearTV       Deer Stand, USA   \n",
       "1 2020-10-25 23:03:02   AirRiderHover  Parry Sound, Ontario   \n",
       "2 2020-10-25 23:00:14     LunkersClub                         \n",
       "3 2020-10-25 22:54:11  MichelleMoggio  Nashville, TN U.S.A.   \n",
       "4 2020-10-25 22:48:36   EmpireHunting       Ontario, Canada   \n",
       "\n",
       "                                               tweet    new_date  \n",
       "0  Did you spend the weekend check your trail cam...  2020-10-25  \n",
       "1  Need an All Seasons Vehicle? We have a Hovercr...  2020-10-25  \n",
       "2  Lunkers Tip:\\n\\nFace the Wind\\nSacrifice some ...  2020-10-25  \n",
       "3  Paris Untamed: Call of the Wild https://t.co/J...  2020-10-25  \n",
       "4  He carried this for a good kilometre lol... #e...  2020-10-25  "
      ]
     },
     "execution_count": 46,
     "metadata": {},
     "output_type": "execute_result"
    }
   ],
   "source": [
    "new_data.head()"
   ]
  },
  {
   "cell_type": "code",
   "execution_count": 47,
   "metadata": {},
   "outputs": [
    {
     "data": {
      "text/plain": [
       "2020-10-22    248\n",
       "2020-10-20    225\n",
       "2020-10-23    225\n",
       "Name: new_date, dtype: int64"
      ]
     },
     "execution_count": 47,
     "metadata": {},
     "output_type": "execute_result"
    }
   ],
   "source": [
    "new_data['new_date'].value_counts()[:3]"
   ]
  },
  {
   "cell_type": "markdown",
   "metadata": {},
   "source": [
    "Now that the dataframe is cleaned to the standard for this A&A, visualizations were created to answer the questions, \"What day is #hunting tweeted the most, and from what locations are the users?\". In the first bar chart, it shows that Denever, CO has the most users tweeting #hunting, with the state Minnesota being next up. Denver does make sense, as it is a state known for its outdoors and hunting population. However, it is surprissing to find that the UK was close in tweets for the #hunting and was not expected to even show as a part of the population. "
   ]
  },
  {
   "cell_type": "code",
   "execution_count": 56,
   "metadata": {},
   "outputs": [
    {
     "data": {
      "text/plain": [
       "<matplotlib.axes._subplots.AxesSubplot at 0x7fc493aa8a30>"
      ]
     },
     "execution_count": 56,
     "metadata": {},
     "output_type": "execute_result"
    },
    {
     "data": {
      "image/png": "[encoded data removed]",
      "text/plain": [
       "<Figure size 432x288 with 1 Axes>"
      ]
     },
     "metadata": {
      "needs_background": "light"
     },
     "output_type": "display_data"
    }
   ],
   "source": [
    "new_data['location'].value_counts()[:11].plot(kind='barh')"
   ]
  },
  {
   "cell_type": "markdown",
   "metadata": {},
   "source": [
    "Knowing that Denver showed the most in a one area of users posting #hunting, the final graph shows the date on which these were posted. The original hypothesis was that Friday or Monday would show the largest population of posts based on the pre and post hunting trips done on the weekends. However, by looking at the data and the bar chart, we show that Thursday had the most post and Tuesday was next in line. After thinking on this a bit more, it left the suggestion that users were away on Friday and Monday for as that was days in the field of hunting. More data would be needed to draw on that conclusion. "
   ]
  },
  {
   "cell_type": "code",
   "execution_count": 57,
   "metadata": {},
   "outputs": [
    {
     "data": {
      "text/plain": [
       "<matplotlib.axes._subplots.AxesSubplot at 0x7fc492cda970>"
      ]
     },
     "execution_count": 57,
     "metadata": {},
     "output_type": "execute_result"
    },
    {
     "data": {
      "image/png": "[encoded data removed]",
      "text/plain": [
       "<Figure size 432x288 with 1 Axes>"
      ]
     },
     "metadata": {
      "needs_background": "light"
     },
     "output_type": "display_data"
    }
   ],
   "source": [
    "new_data['new_date'].value_counts().plot(kind = 'barh')"
   ]
  },
  {
   "cell_type": "markdown",
   "metadata": {},
   "source": [
    "In conclusion, the data set that was pulled using the Twitter api produced valuable information. Once the tweets were gathered, stored into a dataframe, and cleaned, the analysis provided answers to the questions of when and where are tweets containing #huting taken place. From the orginal assumption that Friday and Mondays would be the larger tweeting dates, it was shown that this was not the case and Thursday and Tuesdays had more tweets with the given hashtag. To take this analysis further, it would be suggested to find the earliest hunting season for a specific species such as Elk in the US and to run the API search through the end of the latest season dates. From here, a larger data set has the potential to show trends in dates, locations and even times of when posts are made for better marketing and business analysis. "
   ]
  }
 ],
 "metadata": {
  "kernelspec": {
   "display_name": "Python 3",
   "language": "python",
   "name": "python3"
  },
  "language_info": {
   "codemirror_mode": {
    "name": "ipython",
    "version": 3
   },
   "file_extension": ".py",
   "mimetype": "text/x-python",
   "name": "python",
   "nbconvert_exporter": "python",
   "pygments_lexer": "ipython3",
   "version": "3.8.3"
  }
 },
 "nbformat": 4,
 "nbformat_minor": 4
}
